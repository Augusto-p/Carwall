{
  "nbformat": 4,
  "nbformat_minor": 0,
  "metadata": {
    "colab": {
      "name": "Untitled1.ipynb",
      "provenance": [],
      "mount_file_id": "1p7x30wI3qPuqEv78y-2gOS3os73EoPHE",
      "authorship_tag": "ABX9TyM7CdJxigePoIqs0ZnfK4n1"
    },
    "kernelspec": {
      "name": "python3",
      "display_name": "Python 3"
    },
    "language_info": {
      "name": "python"
    }
  },
  "cells": []
}